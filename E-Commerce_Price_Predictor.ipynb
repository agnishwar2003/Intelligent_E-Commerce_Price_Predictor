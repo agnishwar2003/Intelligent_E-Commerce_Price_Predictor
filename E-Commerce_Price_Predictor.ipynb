{
 "cells": [
  {
   "cell_type": "code",
   "execution_count": 3,
   "id": "9758652b-51b8-48dd-b110-1c5d5c0e2592",
   "metadata": {},
   "outputs": [],
   "source": [
    "# # Core libraries\n",
    "# import time\n",
    "# import pandas as pd\n",
    "\n",
    "# # Web scraping tools\n",
    "# from selenium import webdriver\n",
    "# from selenium.webdriver.common.by import By\n",
    "# from selenium.webdriver.chrome.service import Service\n",
    "# from selenium.webdriver.chrome.options import Options\n",
    "# from webdriver_manager.chrome import ChromeDriverManager\n"
   ]
  },
  {
   "cell_type": "code",
   "execution_count": 4,
   "id": "e4ef1d5e-65c4-41e1-9978-7ba8d395d65b",
   "metadata": {},
   "outputs": [],
   "source": [
    "# # Initialize browser options\n",
    "# chrome_opts = Options()\n",
    "# chrome_opts.add_argument(\"--start-maximized\")\n",
    "\n",
    "# # Set up WebDriver\n",
    "# driver = webdriver.Chrome(service=Service(ChromeDriverManager().install()), options=chrome_opts)\n"
   ]
  },
  {
   "cell_type": "code",
   "execution_count": 5,
   "id": "b6048a30-d5d9-49ea-8ad0-f0f114753e24",
   "metadata": {},
   "outputs": [],
   "source": [
    "# # Product categories and corresponding URLs from Croma website\n",
    "# product_urls = {\n",
    "#     \"Smartphones\": \"https://www.croma.com/mobiles-smartphones/c/1\",\n",
    "#     \"Laptops\": \"https://www.croma.com/laptops/laptops/c/1111\",\n",
    "#     \"TVs\": \"https://www.croma.com/televisions/c/63\",\n",
    "#     \"Fridges\": \"https://www.croma.com/home-appliances/refrigerators/c/5\",\n",
    "#     \"ACs\": \"https://www.croma.com/home-appliances/air-conditioners/c/3\",\n",
    "#     \"Washing Machines\": \"https://www.croma.com/home-appliances/washing-machines/c/4\"\n",
    "# }\n"
   ]
  },
  {
   "cell_type": "code",
   "execution_count": 1,
   "id": "2f719a09-7291-425d-9cab-de85ffd424d6",
   "metadata": {},
   "outputs": [
    {
     "name": "stdout",
     "output_type": "stream",
     "text": [
      "\n",
      "📦 Extracting data from: Smartphones\n",
      "🔄 Scroll 1 → Found 21 products in Smartphones\n",
      "🔄 Scroll 2 → Found 21 products in Smartphones\n",
      "✅ No new products after scroll 2. Ending scroll.\n",
      "\n",
      "📦 Extracting data from: Laptops\n",
      "🔄 Scroll 1 → Found 1 products in Laptops\n",
      "🔄 Scroll 2 → Found 1 products in Laptops\n",
      "✅ No new products after scroll 2. Ending scroll.\n",
      "\n",
      "📦 Extracting data from: TVs\n",
      "🔄 Scroll 1 → Found 6 products in TVs\n",
      "🔄 Scroll 2 → Found 6 products in TVs\n",
      "✅ No new products after scroll 2. Ending scroll.\n",
      "\n",
      "📦 Extracting data from: Fridges\n",
      "🔄 Scroll 1 → Found 21 products in Fridges\n",
      "🔄 Scroll 2 → Found 21 products in Fridges\n",
      "✅ No new products after scroll 2. Ending scroll.\n",
      "\n",
      "📦 Extracting data from: ACs\n",
      "🔄 Scroll 1 → Found 21 products in ACs\n",
      "🔄 Scroll 2 → Found 21 products in ACs\n",
      "✅ No new products after scroll 2. Ending scroll.\n",
      "\n",
      "📦 Extracting data from: Washing Machines\n",
      "🔄 Scroll 1 → Found 1 products in Washing Machines\n",
      "🔄 Scroll 2 → Found 1 products in Washing Machines\n",
      "✅ No new products after scroll 2. Ending scroll.\n",
      "✅ Web scraping completed.\n",
      "✅ Raw data saved to 'croma_raw_products.csv'\n"
     ]
    }
   ],
   "source": [
    "# Core libraries\n",
    "import time\n",
    "import pandas as pd\n",
    "\n",
    "# Web scraping tools\n",
    "from selenium import webdriver\n",
    "from selenium.webdriver.common.by import By\n",
    "from selenium.webdriver.chrome.service import Service\n",
    "from selenium.webdriver.chrome.options import Options\n",
    "from webdriver_manager.chrome import ChromeDriverManager\n",
    "\n",
    "# Initialize browser options\n",
    "chrome_opts = Options()\n",
    "chrome_opts.add_argument(\"--start-maximized\")\n",
    "\n",
    "# Set up WebDriver\n",
    "driver = webdriver.Chrome(service=Service(ChromeDriverManager().install()), options=chrome_opts)\n",
    "\n",
    "# Product categories and corresponding URLs from Croma website\n",
    "product_urls = {\n",
    "    \"Smartphones\": \"https://www.croma.com/mobiles-smartphones/c/1\",\n",
    "    \"Laptops\": \"https://www.croma.com/laptops/laptops/c/1111\",\n",
    "    \"TVs\": \"https://www.croma.com/televisions/c/63\",\n",
    "    \"Fridges\": \"https://www.croma.com/home-appliances/refrigerators/c/5\",\n",
    "    \"ACs\": \"https://www.croma.com/home-appliances/air-conditioners/c/3\",\n",
    "    \"Washing Machines\": \"https://www.croma.com/home-appliances/washing-machines/c/4\"\n",
    "}\n",
    "\n",
    "# List to collect scraped data\n",
    "collected_data = []\n",
    "\n",
    "# Loop through each product category\n",
    "for group, page_url in product_urls.items():\n",
    "    print(f\"\\n📦 Extracting data from: {group}\")\n",
    "    \n",
    "    driver.get(page_url)\n",
    "    time.sleep(4)\n",
    "\n",
    "    # Infinite scroll loop to load all products\n",
    "    prev_count = 0\n",
    "    scroll_attempts = 0\n",
    "\n",
    "    while True:\n",
    "        # Scroll down step-by-step\n",
    "        driver.execute_script(\"window.scrollBy(0, 1000);\")\n",
    "        time.sleep(2)\n",
    "\n",
    "        # Scroll to bottom and pause\n",
    "        driver.execute_script(\"window.scrollTo(0, document.body.scrollHeight);\")\n",
    "        time.sleep(3)\n",
    "\n",
    "        # Get all product elements\n",
    "        items = driver.find_elements(By.CSS_SELECTOR, \"li.product-item\")\n",
    "        curr_count = len(items)\n",
    "        print(f\"🔄 Scroll {scroll_attempts + 1} → Found {curr_count} products in {group}\")\n",
    "\n",
    "        # Break if no new items are loaded\n",
    "        if curr_count == prev_count:\n",
    "            print(f\"✅ No new products after scroll {scroll_attempts + 1}. Ending scroll.\")\n",
    "            break\n",
    "\n",
    "        prev_count = curr_count\n",
    "        scroll_attempts += 1\n",
    "\n",
    "        if scroll_attempts >= 30:  # safety limit\n",
    "            print(\"⚠️ Max scroll attempts reached. Moving to next category.\")\n",
    "            break\n",
    "\n",
    "    # Extract info from loaded products\n",
    "    for item in items:\n",
    "        try:\n",
    "            name = item.find_element(By.CSS_SELECTOR, \"h3.product-title\").text\n",
    "        except:\n",
    "            name = \"Unavailable\"\n",
    "\n",
    "        try:\n",
    "            price_tag = item.find_element(By.CSS_SELECTOR, \"span.new-price\")\n",
    "            price_text = price_tag.text\n",
    "        except:\n",
    "            try:\n",
    "                price_text = item.find_element(By.CSS_SELECTOR, \"span.amount\").text\n",
    "            except:\n",
    "                price_text = \"Unavailable\"\n",
    "\n",
    "        try:\n",
    "            product_link = item.find_element(By.TAG_NAME, \"a\").get_attribute(\"href\")\n",
    "        except:\n",
    "            product_link = \"Unavailable\"\n",
    "\n",
    "        collected_data.append({\n",
    "            \"Category\": group,\n",
    "            \"Product\": name,\n",
    "            \"Price\": price_text,\n",
    "            \"URL\": product_link\n",
    "        })\n",
    "\n",
    "# Close the browser\n",
    "driver.quit()\n",
    "print(\"✅ Web scraping completed.\")\n",
    "\n",
    "# Convert to DataFrame and save as raw CSV (no cleaning)\n",
    "pd.DataFrame(collected_data).to_csv(\"croma_raw_products.csv\", index=False)\n",
    "print(\"✅ Raw data saved to 'croma_raw_products.csv'\")\n"
   ]
  },
  {
   "cell_type": "code",
   "execution_count": 7,
   "id": "26e89389-42af-410d-873c-0d93dac0aa9d",
   "metadata": {},
   "outputs": [],
   "source": [
    "# driver.quit()\n",
    "# print(\"✅ Web scraping completed.\")"
   ]
  },
  {
   "cell_type": "code",
   "execution_count": 12,
   "id": "ecaabb9b-ea03-43d2-b1a1-7d8b1f4cb607",
   "metadata": {},
   "outputs": [],
   "source": [
    "# # Convert to DataFrame\n",
    "# croma_df = pd.DataFrame(collected_data)\n",
    "\n",
    "# # Save raw data\n",
    "# croma_df.to_csv(\"croma_raw_products.csv\", index=False)\n",
    "# croma_df.head()"
   ]
  },
  {
   "cell_type": "code",
   "execution_count": 14,
   "id": "27cf60f0-e962-4989-9f7b-3de5a0b94129",
   "metadata": {},
   "outputs": [],
   "source": [
    "# # Convert to DataFrame\n",
    "# croma_df = pd.DataFrame(collected_data)\n",
    "\n",
    "# # Save raw data\n",
    "# croma_df.to_csv(\"croma_raw_products.csv\", index=False)\n",
    "# croma_df.head()\n"
   ]
  },
  {
   "cell_type": "code",
   "execution_count": 20,
   "id": "e3321dc9-478c-4e00-a4eb-733efa7ac5d5",
   "metadata": {},
   "outputs": [
    {
     "name": "stdout",
     "output_type": "stream",
     "text": [
      "      Category                                            Product    Price  \\\n",
      "0  Smartphones        vivo Y29 5G (6GB RAM, 128GB, Diamond Black)  ₹15,499   \n",
      "1  Smartphones  noise ColorFit Victor Smartwatch with Bluetoot...     ₹999   \n",
      "2  Smartphones         vivo Y29 5G (4GB RAM, 128GB, Glacier Blue)  ₹13,999   \n",
      "3  Smartphones        vivo Y29 5G (4GB RAM, 128GB, Diamond Black)  ₹13,999   \n",
      "4  Smartphones         vivo Y29 5G (6GB RAM, 128GB, Glacier Blue)  ₹15,499   \n",
      "5  Smartphones                      Apple iPhone 15 (256GB, Blue)  ₹73,590   \n",
      "6  Smartphones                     Apple iPhone 15 (256GB, Black)  ₹73,590   \n",
      "7  Smartphones  noise Twist Go Smartwatch with Bluetooth Calli...   ₹1,399   \n",
      "8  Smartphones           Apple iPhone 13 (128GB, Starlight White)  ₹45,790   \n",
      "9  Smartphones                  Apple iPhone 13 (128GB, Midnight)  ₹45,790   \n",
      "\n",
      "                                                 URL  \n",
      "0  https://www.croma.com/vivo-y29-5g-6gb-ram-128g...  \n",
      "1  https://www.croma.com/noise-colorfit-victor-sm...  \n",
      "2  https://www.croma.com/vivo-y29-5g-4gb-ram-128g...  \n",
      "3  https://www.croma.com/vivo-y29-5g-4gb-ram-128g...  \n",
      "4  https://www.croma.com/vivo-y29-5g-6gb-ram-128g...  \n",
      "5  https://www.croma.com/apple-iphone-15-256gb-bl...  \n",
      "6  https://www.croma.com/apple-iphone-15-256gb-bl...  \n",
      "7  https://www.croma.com/noise-twist-go-smartwatc...  \n",
      "8  https://www.croma.com/apple-iphone-13-128gb-st...  \n",
      "9  https://www.croma.com/apple-iphone-13-128gb-mi...  \n"
     ]
    }
   ],
   "source": [
    "import pandas as pd\n",
    "\n",
    "# Load the saved raw CSV\n",
    "croma_df = pd.read_csv(\"croma_raw_products.csv\")\n",
    "\n",
    "# Show top 10 rows\n",
    "print(croma_df.head(10))\n"
   ]
  },
  {
   "cell_type": "code",
   "execution_count": 22,
   "id": "ad6f2a52-1c93-4b6b-9d6e-65b9342197a5",
   "metadata": {},
   "outputs": [
    {
     "data": {
      "text/html": [
       "<div>\n",
       "<style scoped>\n",
       "    .dataframe tbody tr th:only-of-type {\n",
       "        vertical-align: middle;\n",
       "    }\n",
       "\n",
       "    .dataframe tbody tr th {\n",
       "        vertical-align: top;\n",
       "    }\n",
       "\n",
       "    .dataframe thead th {\n",
       "        text-align: right;\n",
       "    }\n",
       "</style>\n",
       "<table border=\"1\" class=\"dataframe\">\n",
       "  <thead>\n",
       "    <tr style=\"text-align: right;\">\n",
       "      <th></th>\n",
       "      <th>Category</th>\n",
       "      <th>Product</th>\n",
       "      <th>Price</th>\n",
       "      <th>URL</th>\n",
       "    </tr>\n",
       "  </thead>\n",
       "  <tbody>\n",
       "    <tr>\n",
       "      <th>0</th>\n",
       "      <td>Smartphones</td>\n",
       "      <td>vivo Y29 5G (6GB RAM, 128GB, Diamond Black)</td>\n",
       "      <td>15499</td>\n",
       "      <td>https://www.croma.com/vivo-y29-5g-6gb-ram-128g...</td>\n",
       "    </tr>\n",
       "    <tr>\n",
       "      <th>1</th>\n",
       "      <td>Smartphones</td>\n",
       "      <td>noise ColorFit Victor Smartwatch with Bluetoot...</td>\n",
       "      <td>999</td>\n",
       "      <td>https://www.croma.com/noise-colorfit-victor-sm...</td>\n",
       "    </tr>\n",
       "    <tr>\n",
       "      <th>2</th>\n",
       "      <td>Smartphones</td>\n",
       "      <td>vivo Y29 5G (4GB RAM, 128GB, Glacier Blue)</td>\n",
       "      <td>13999</td>\n",
       "      <td>https://www.croma.com/vivo-y29-5g-4gb-ram-128g...</td>\n",
       "    </tr>\n",
       "    <tr>\n",
       "      <th>3</th>\n",
       "      <td>Smartphones</td>\n",
       "      <td>vivo Y29 5G (4GB RAM, 128GB, Diamond Black)</td>\n",
       "      <td>13999</td>\n",
       "      <td>https://www.croma.com/vivo-y29-5g-4gb-ram-128g...</td>\n",
       "    </tr>\n",
       "    <tr>\n",
       "      <th>4</th>\n",
       "      <td>Smartphones</td>\n",
       "      <td>vivo Y29 5G (6GB RAM, 128GB, Glacier Blue)</td>\n",
       "      <td>15499</td>\n",
       "      <td>https://www.croma.com/vivo-y29-5g-6gb-ram-128g...</td>\n",
       "    </tr>\n",
       "  </tbody>\n",
       "</table>\n",
       "</div>"
      ],
      "text/plain": [
       "      Category                                            Product  Price  \\\n",
       "0  Smartphones        vivo Y29 5G (6GB RAM, 128GB, Diamond Black)  15499   \n",
       "1  Smartphones  noise ColorFit Victor Smartwatch with Bluetoot...    999   \n",
       "2  Smartphones         vivo Y29 5G (4GB RAM, 128GB, Glacier Blue)  13999   \n",
       "3  Smartphones        vivo Y29 5G (4GB RAM, 128GB, Diamond Black)  13999   \n",
       "4  Smartphones         vivo Y29 5G (6GB RAM, 128GB, Glacier Blue)  15499   \n",
       "\n",
       "                                                 URL  \n",
       "0  https://www.croma.com/vivo-y29-5g-6gb-ram-128g...  \n",
       "1  https://www.croma.com/noise-colorfit-victor-sm...  \n",
       "2  https://www.croma.com/vivo-y29-5g-4gb-ram-128g...  \n",
       "3  https://www.croma.com/vivo-y29-5g-4gb-ram-128g...  \n",
       "4  https://www.croma.com/vivo-y29-5g-6gb-ram-128g...  "
      ]
     },
     "execution_count": 22,
     "metadata": {},
     "output_type": "execute_result"
    }
   ],
   "source": [
    "# Remove missing/invalid rows\n",
    "clean_df = croma_df[\n",
    "    (croma_df['Product'] != 'Unavailable') &\n",
    "    (croma_df['Price'] != 'Unavailable') &\n",
    "    (croma_df['URL'] != 'Unavailable')\n",
    "].copy()\n",
    "\n",
    "# Clean price values\n",
    "clean_df['Price'] = clean_df['Price'].str.replace(\"₹\", \"\", regex=False)\n",
    "clean_df['Price'] = clean_df['Price'].str.replace(\",\", \"\", regex=False)\n",
    "clean_df['Price'] = clean_df['Price'].astype(int)\n",
    "\n",
    "# Save cleaned version\n",
    "clean_df.to_csv(\"croma_cleaned_products.csv\", index=False)\n",
    "clean_df.head()\n"
   ]
  },
  {
   "cell_type": "code",
   "execution_count": 24,
   "id": "5f62f95d-a268-4b2d-a78c-328d8ac08010",
   "metadata": {},
   "outputs": [
    {
     "name": "stdout",
     "output_type": "stream",
     "text": [
      "📊 Summary Info:\n",
      "<class 'pandas.core.frame.DataFrame'>\n",
      "Index: 68 entries, 0 to 69\n",
      "Data columns (total 4 columns):\n",
      " #   Column    Non-Null Count  Dtype \n",
      "---  ------    --------------  ----- \n",
      " 0   Category  68 non-null     object\n",
      " 1   Product   68 non-null     object\n",
      " 2   Price     68 non-null     int32 \n",
      " 3   URL       68 non-null     object\n",
      "dtypes: int32(1), object(3)\n",
      "memory usage: 2.4+ KB\n",
      "None\n"
     ]
    },
    {
     "data": {
      "text/plain": [
       "Category\n",
       "Smartphones    21\n",
       "Fridges        21\n",
       "ACs            21\n",
       "TVs             5\n",
       "Name: count, dtype: int64"
      ]
     },
     "execution_count": 24,
     "metadata": {},
     "output_type": "execute_result"
    }
   ],
   "source": [
    "# Check total rows and structure\n",
    "print(\"📊 Summary Info:\")\n",
    "print(clean_df.info())\n",
    "\n",
    "# Count by category\n",
    "clean_df['Category'].value_counts()\n"
   ]
  },
  {
   "cell_type": "code",
   "execution_count": 26,
   "id": "81f7f2f0-04b7-42e8-9341-1872db9f5ef7",
   "metadata": {},
   "outputs": [
    {
     "data": {
      "text/plain": [
       "Category\n",
       "ACs            82682.714286\n",
       "TVs            39991.800000\n",
       "Smartphones    30309.428571\n",
       "Fridges        17048.380952\n",
       "Name: Price, dtype: float64"
      ]
     },
     "execution_count": 26,
     "metadata": {},
     "output_type": "execute_result"
    }
   ],
   "source": [
    "# Grouped average\n",
    "avg_price = clean_df.groupby('Category')['Price'].mean().sort_values(ascending=False)\n",
    "avg_price\n"
   ]
  },
  {
   "cell_type": "code",
   "execution_count": 28,
   "id": "a5a9d953-1bff-4665-beb3-f1b18e113552",
   "metadata": {},
   "outputs": [
    {
     "data": {
      "text/html": [
       "<div>\n",
       "<style scoped>\n",
       "    .dataframe tbody tr th:only-of-type {\n",
       "        vertical-align: middle;\n",
       "    }\n",
       "\n",
       "    .dataframe tbody tr th {\n",
       "        vertical-align: top;\n",
       "    }\n",
       "\n",
       "    .dataframe thead th {\n",
       "        text-align: right;\n",
       "    }\n",
       "</style>\n",
       "<table border=\"1\" class=\"dataframe\">\n",
       "  <thead>\n",
       "    <tr style=\"text-align: right;\">\n",
       "      <th></th>\n",
       "      <th>Category</th>\n",
       "      <th>Product</th>\n",
       "      <th>Price</th>\n",
       "      <th>URL</th>\n",
       "    </tr>\n",
       "  </thead>\n",
       "  <tbody>\n",
       "    <tr>\n",
       "      <th>50</th>\n",
       "      <td>ACs</td>\n",
       "      <td>Microsoft Surface Pro 11th Edition Wi-Fi Windo...</td>\n",
       "      <td>232990</td>\n",
       "      <td>https://www.croma.com/microsoft-surface-pro-11...</td>\n",
       "    </tr>\n",
       "    <tr>\n",
       "      <th>48</th>\n",
       "      <td>Fridges</td>\n",
       "      <td>DAIKIN Premium Series 1.5 Ton 5 Star Inverter ...</td>\n",
       "      <td>45990</td>\n",
       "      <td>https://www.croma.com/daikin-premium-series-1-...</td>\n",
       "    </tr>\n",
       "    <tr>\n",
       "      <th>15</th>\n",
       "      <td>Smartphones</td>\n",
       "      <td>Apple iPhone 16 (128GB, Teal)</td>\n",
       "      <td>74900</td>\n",
       "      <td>https://www.croma.com/apple-iphone-16-128gb-te...</td>\n",
       "    </tr>\n",
       "    <tr>\n",
       "      <th>22</th>\n",
       "      <td>TVs</td>\n",
       "      <td>SONY Playstation 5 Slim 1TB SSD (CFI-2008A01X,...</td>\n",
       "      <td>54990</td>\n",
       "      <td>https://www.croma.com/sony-playstation-5-slim-...</td>\n",
       "    </tr>\n",
       "  </tbody>\n",
       "</table>\n",
       "</div>"
      ],
      "text/plain": [
       "       Category                                            Product   Price  \\\n",
       "50          ACs  Microsoft Surface Pro 11th Edition Wi-Fi Windo...  232990   \n",
       "48      Fridges  DAIKIN Premium Series 1.5 Ton 5 Star Inverter ...   45990   \n",
       "15  Smartphones                      Apple iPhone 16 (128GB, Teal)   74900   \n",
       "22          TVs  SONY Playstation 5 Slim 1TB SSD (CFI-2008A01X,...   54990   \n",
       "\n",
       "                                                  URL  \n",
       "50  https://www.croma.com/microsoft-surface-pro-11...  \n",
       "48  https://www.croma.com/daikin-premium-series-1-...  \n",
       "15  https://www.croma.com/apple-iphone-16-128gb-te...  \n",
       "22  https://www.croma.com/sony-playstation-5-slim-...  "
      ]
     },
     "execution_count": 28,
     "metadata": {},
     "output_type": "execute_result"
    }
   ],
   "source": [
    "# Find max priced product per category\n",
    "highest_price_products = clean_df.loc[clean_df.groupby('Category')['Price'].idxmax()]\n",
    "highest_price_products\n"
   ]
  },
  {
   "cell_type": "code",
   "execution_count": 30,
   "id": "42796def-9482-4c8a-911d-cce15f9c64c5",
   "metadata": {},
   "outputs": [
    {
     "name": "stderr",
     "output_type": "stream",
     "text": [
      "C:\\Users\\Agnishwar Das\\AppData\\Local\\Temp\\ipykernel_9548\\1791662414.py:5: FutureWarning: \n",
      "\n",
      "Passing `palette` without assigning `hue` is deprecated and will be removed in v0.14.0. Assign the `x` variable to `hue` and set `legend=False` for the same effect.\n",
      "\n",
      "  sns.barplot(x=avg_price.index, y=avg_price.values, palette='mako')\n",
      "C:\\Users\\Agnishwar Das\\AppData\\Local\\Temp\\ipykernel_9548\\1791662414.py:11: UserWarning: Glyph 128202 (\\N{BAR CHART}) missing from font(s) DejaVu Sans.\n",
      "  plt.tight_layout()\n",
      "C:\\Users\\Agnishwar Das\\AppData\\Roaming\\Python\\Python312\\site-packages\\IPython\\core\\pylabtools.py:170: UserWarning: Glyph 128202 (\\N{BAR CHART}) missing from font(s) DejaVu Sans.\n",
      "  fig.canvas.print_figure(bytes_io, **kw)\n"
     ]
    },
    {
     "data": {
      "image/png": "[encoded data removed]",
      "text/plain": [
       "<Figure size 1000x600 with 1 Axes>"
      ]
     },
     "metadata": {},
     "output_type": "display_data"
    }
   ],
   "source": [
    "import matplotlib.pyplot as plt\n",
    "import seaborn as sns\n",
    "\n",
    "plt.figure(figsize=(10, 6))\n",
    "sns.barplot(x=avg_price.index, y=avg_price.values, palette='mako')\n",
    "plt.title('📊 Average Price by Product Category')\n",
    "plt.ylabel('Price (INR)')\n",
    "plt.xlabel('Category')\n",
    "plt.xticks(rotation=30)\n",
    "plt.grid(axis='y', linestyle='--', alpha=0.7)\n",
    "plt.tight_layout()\n",
    "plt.show()\n"
   ]
  },
  {
   "cell_type": "code",
   "execution_count": 32,
   "id": "2c5f7ada-4f8f-49d4-881a-08e2825652d2",
   "metadata": {},
   "outputs": [
    {
     "name": "stderr",
     "output_type": "stream",
     "text": [
      "C:\\Users\\Agnishwar Das\\AppData\\Local\\Temp\\ipykernel_9548\\4192592121.py:2: FutureWarning: \n",
      "\n",
      "Passing `palette` without assigning `hue` is deprecated and will be removed in v0.14.0. Assign the `x` variable to `hue` and set `legend=False` for the same effect.\n",
      "\n",
      "  sns.boxplot(data=clean_df, x='Category', y='Price', palette='pastel')\n",
      "C:\\Users\\Agnishwar Das\\AppData\\Local\\Temp\\ipykernel_9548\\4192592121.py:5: UserWarning: Glyph 128184 (\\N{MONEY WITH WINGS}) missing from font(s) DejaVu Sans.\n",
      "  plt.tight_layout()\n",
      "C:\\Users\\Agnishwar Das\\AppData\\Roaming\\Python\\Python312\\site-packages\\IPython\\core\\pylabtools.py:170: UserWarning: Glyph 128184 (\\N{MONEY WITH WINGS}) missing from font(s) DejaVu Sans.\n",
      "  fig.canvas.print_figure(bytes_io, **kw)\n"
     ]
    },
    {
     "data": {
      "image/png": "[encoded data removed]",
      "text/plain": [
       "<Figure size 1200x600 with 1 Axes>"
      ]
     },
     "metadata": {},
     "output_type": "display_data"
    }
   ],
   "source": [
    "plt.figure(figsize=(12, 6))\n",
    "sns.boxplot(data=clean_df, x='Category', y='Price', palette='pastel')\n",
    "plt.title('💸 Price Distribution Across Categories')\n",
    "plt.xticks(rotation=30)\n",
    "plt.tight_layout()\n",
    "plt.show()\n"
   ]
  },
  {
   "cell_type": "markdown",
   "id": "a92a38e0-e998-4e56-8657-5b148db0a7cf",
   "metadata": {},
   "source": [
    "### Machine Learning"
   ]
  },
  {
   "cell_type": "code",
   "execution_count": 34,
   "id": "5e645daa-0404-410c-948e-a456069174c8",
   "metadata": {},
   "outputs": [
    {
     "data": {
      "text/html": [
       "<div>\n",
       "<style scoped>\n",
       "    .dataframe tbody tr th:only-of-type {\n",
       "        vertical-align: middle;\n",
       "    }\n",
       "\n",
       "    .dataframe tbody tr th {\n",
       "        vertical-align: top;\n",
       "    }\n",
       "\n",
       "    .dataframe thead th {\n",
       "        text-align: right;\n",
       "    }\n",
       "</style>\n",
       "<table border=\"1\" class=\"dataframe\">\n",
       "  <thead>\n",
       "    <tr style=\"text-align: right;\">\n",
       "      <th></th>\n",
       "      <th>Category</th>\n",
       "      <th>Product</th>\n",
       "      <th>Price</th>\n",
       "      <th>URL</th>\n",
       "    </tr>\n",
       "  </thead>\n",
       "  <tbody>\n",
       "    <tr>\n",
       "      <th>0</th>\n",
       "      <td>Smartphones</td>\n",
       "      <td>vivo Y29 5G (6GB RAM, 128GB, Diamond Black)</td>\n",
       "      <td>15499</td>\n",
       "      <td>https://www.croma.com/vivo-y29-5g-6gb-ram-128g...</td>\n",
       "    </tr>\n",
       "    <tr>\n",
       "      <th>1</th>\n",
       "      <td>Smartphones</td>\n",
       "      <td>noise ColorFit Victor Smartwatch with Bluetoot...</td>\n",
       "      <td>999</td>\n",
       "      <td>https://www.croma.com/noise-colorfit-victor-sm...</td>\n",
       "    </tr>\n",
       "    <tr>\n",
       "      <th>2</th>\n",
       "      <td>Smartphones</td>\n",
       "      <td>vivo Y29 5G (4GB RAM, 128GB, Glacier Blue)</td>\n",
       "      <td>13999</td>\n",
       "      <td>https://www.croma.com/vivo-y29-5g-4gb-ram-128g...</td>\n",
       "    </tr>\n",
       "    <tr>\n",
       "      <th>3</th>\n",
       "      <td>Smartphones</td>\n",
       "      <td>vivo Y29 5G (4GB RAM, 128GB, Diamond Black)</td>\n",
       "      <td>13999</td>\n",
       "      <td>https://www.croma.com/vivo-y29-5g-4gb-ram-128g...</td>\n",
       "    </tr>\n",
       "    <tr>\n",
       "      <th>4</th>\n",
       "      <td>Smartphones</td>\n",
       "      <td>vivo Y29 5G (6GB RAM, 128GB, Glacier Blue)</td>\n",
       "      <td>15499</td>\n",
       "      <td>https://www.croma.com/vivo-y29-5g-6gb-ram-128g...</td>\n",
       "    </tr>\n",
       "  </tbody>\n",
       "</table>\n",
       "</div>"
      ],
      "text/plain": [
       "      Category                                            Product  Price  \\\n",
       "0  Smartphones        vivo Y29 5G (6GB RAM, 128GB, Diamond Black)  15499   \n",
       "1  Smartphones  noise ColorFit Victor Smartwatch with Bluetoot...    999   \n",
       "2  Smartphones         vivo Y29 5G (4GB RAM, 128GB, Glacier Blue)  13999   \n",
       "3  Smartphones        vivo Y29 5G (4GB RAM, 128GB, Diamond Black)  13999   \n",
       "4  Smartphones         vivo Y29 5G (6GB RAM, 128GB, Glacier Blue)  15499   \n",
       "\n",
       "                                                 URL  \n",
       "0  https://www.croma.com/vivo-y29-5g-6gb-ram-128g...  \n",
       "1  https://www.croma.com/noise-colorfit-victor-sm...  \n",
       "2  https://www.croma.com/vivo-y29-5g-4gb-ram-128g...  \n",
       "3  https://www.croma.com/vivo-y29-5g-4gb-ram-128g...  \n",
       "4  https://www.croma.com/vivo-y29-5g-6gb-ram-128g...  "
      ]
     },
     "execution_count": 34,
     "metadata": {},
     "output_type": "execute_result"
    }
   ],
   "source": [
    "import pandas as pd\n",
    "\n",
    "df = pd.read_csv(\"croma_cleaned_products.csv\")\n",
    "df.head()\n"
   ]
  },
  {
   "cell_type": "code",
   "execution_count": 36,
   "id": "7ca25984-5cbd-4d81-aa47-2b31e0ad220f",
   "metadata": {},
   "outputs": [],
   "source": [
    "# Optional: Extract brand from title if not in a separate column\n",
    "df['Brand'] = df['Product'].str.split().str[0]  # crude method\n",
    "\n",
    "# Keep only useful columns\n",
    "df = df[['Category', 'Product', 'Brand', 'Price']]\n"
   ]
  },
  {
   "cell_type": "code",
   "execution_count": 38,
   "id": "4f909f02-fd17-4874-a2ee-ac6b762fe9db",
   "metadata": {},
   "outputs": [
    {
     "data": {
      "text/html": [
       "<div>\n",
       "<style scoped>\n",
       "    .dataframe tbody tr th:only-of-type {\n",
       "        vertical-align: middle;\n",
       "    }\n",
       "\n",
       "    .dataframe tbody tr th {\n",
       "        vertical-align: top;\n",
       "    }\n",
       "\n",
       "    .dataframe thead th {\n",
       "        text-align: right;\n",
       "    }\n",
       "</style>\n",
       "<table border=\"1\" class=\"dataframe\">\n",
       "  <thead>\n",
       "    <tr style=\"text-align: right;\">\n",
       "      <th></th>\n",
       "      <th>Category</th>\n",
       "      <th>Product</th>\n",
       "      <th>Brand</th>\n",
       "      <th>Price</th>\n",
       "    </tr>\n",
       "  </thead>\n",
       "  <tbody>\n",
       "    <tr>\n",
       "      <th>0</th>\n",
       "      <td>Smartphones</td>\n",
       "      <td>vivo Y29 5G (6GB RAM, 128GB, Diamond Black)</td>\n",
       "      <td>vivo</td>\n",
       "      <td>15499</td>\n",
       "    </tr>\n",
       "    <tr>\n",
       "      <th>1</th>\n",
       "      <td>Smartphones</td>\n",
       "      <td>noise ColorFit Victor Smartwatch with Bluetoot...</td>\n",
       "      <td>noise</td>\n",
       "      <td>999</td>\n",
       "    </tr>\n",
       "    <tr>\n",
       "      <th>2</th>\n",
       "      <td>Smartphones</td>\n",
       "      <td>vivo Y29 5G (4GB RAM, 128GB, Glacier Blue)</td>\n",
       "      <td>vivo</td>\n",
       "      <td>13999</td>\n",
       "    </tr>\n",
       "    <tr>\n",
       "      <th>3</th>\n",
       "      <td>Smartphones</td>\n",
       "      <td>vivo Y29 5G (4GB RAM, 128GB, Diamond Black)</td>\n",
       "      <td>vivo</td>\n",
       "      <td>13999</td>\n",
       "    </tr>\n",
       "    <tr>\n",
       "      <th>4</th>\n",
       "      <td>Smartphones</td>\n",
       "      <td>vivo Y29 5G (6GB RAM, 128GB, Glacier Blue)</td>\n",
       "      <td>vivo</td>\n",
       "      <td>15499</td>\n",
       "    </tr>\n",
       "    <tr>\n",
       "      <th>...</th>\n",
       "      <td>...</td>\n",
       "      <td>...</td>\n",
       "      <td>...</td>\n",
       "      <td>...</td>\n",
       "    </tr>\n",
       "    <tr>\n",
       "      <th>63</th>\n",
       "      <td>ACs</td>\n",
       "      <td>Apple MacBook Air (13.6 inch, M3, 16GB, 256GB,...</td>\n",
       "      <td>Apple</td>\n",
       "      <td>103994</td>\n",
       "    </tr>\n",
       "    <tr>\n",
       "      <th>64</th>\n",
       "      <td>ACs</td>\n",
       "      <td>HP 15s-fr5009TU Intel Core i3 12th Gen Laptop ...</td>\n",
       "      <td>HP</td>\n",
       "      <td>36490</td>\n",
       "    </tr>\n",
       "    <tr>\n",
       "      <th>65</th>\n",
       "      <td>ACs</td>\n",
       "      <td>Xiaomi Pad 7 Wi-Fi Android Tablet (11.16 Inch,...</td>\n",
       "      <td>Xiaomi</td>\n",
       "      <td>26999</td>\n",
       "    </tr>\n",
       "    <tr>\n",
       "      <th>66</th>\n",
       "      <td>ACs</td>\n",
       "      <td>acer Aspire 3 A325-45 Intel Celeron N4500 Thin...</td>\n",
       "      <td>acer</td>\n",
       "      <td>25990</td>\n",
       "    </tr>\n",
       "    <tr>\n",
       "      <th>67</th>\n",
       "      <td>ACs</td>\n",
       "      <td>HP 14 gr0001TU Intel Core i5 13th Gen Thin &amp; L...</td>\n",
       "      <td>HP</td>\n",
       "      <td>61990</td>\n",
       "    </tr>\n",
       "  </tbody>\n",
       "</table>\n",
       "<p>68 rows × 4 columns</p>\n",
       "</div>"
      ],
      "text/plain": [
       "       Category                                            Product   Brand  \\\n",
       "0   Smartphones        vivo Y29 5G (6GB RAM, 128GB, Diamond Black)    vivo   \n",
       "1   Smartphones  noise ColorFit Victor Smartwatch with Bluetoot...   noise   \n",
       "2   Smartphones         vivo Y29 5G (4GB RAM, 128GB, Glacier Blue)    vivo   \n",
       "3   Smartphones        vivo Y29 5G (4GB RAM, 128GB, Diamond Black)    vivo   \n",
       "4   Smartphones         vivo Y29 5G (6GB RAM, 128GB, Glacier Blue)    vivo   \n",
       "..          ...                                                ...     ...   \n",
       "63          ACs  Apple MacBook Air (13.6 inch, M3, 16GB, 256GB,...   Apple   \n",
       "64          ACs  HP 15s-fr5009TU Intel Core i3 12th Gen Laptop ...      HP   \n",
       "65          ACs  Xiaomi Pad 7 Wi-Fi Android Tablet (11.16 Inch,...  Xiaomi   \n",
       "66          ACs  acer Aspire 3 A325-45 Intel Celeron N4500 Thin...    acer   \n",
       "67          ACs  HP 14 gr0001TU Intel Core i5 13th Gen Thin & L...      HP   \n",
       "\n",
       "     Price  \n",
       "0    15499  \n",
       "1      999  \n",
       "2    13999  \n",
       "3    13999  \n",
       "4    15499  \n",
       "..     ...  \n",
       "63  103994  \n",
       "64   36490  \n",
       "65   26999  \n",
       "66   25990  \n",
       "67   61990  \n",
       "\n",
       "[68 rows x 4 columns]"
      ]
     },
     "execution_count": 38,
     "metadata": {},
     "output_type": "execute_result"
    }
   ],
   "source": [
    "df"
   ]
  },
  {
   "cell_type": "code",
   "execution_count": 40,
   "id": "6f57afc2-0377-4d6a-a776-fe9704fe7c0d",
   "metadata": {},
   "outputs": [],
   "source": [
    "from sklearn.model_selection import train_test_split\n",
    "\n",
    "X = df[['Category', 'Product', 'Brand']]\n",
    "y = df['Price']\n",
    "\n",
    "X_train, X_test, y_train, y_test = train_test_split(X, y, test_size=0.2, random_state=42)\n"
   ]
  },
  {
   "cell_type": "markdown",
   "id": "dbea18aa-e9c6-445c-8c7f-69bcbe0800e1",
   "metadata": {},
   "source": [
    "### Random Forest"
   ]
  },
  {
   "cell_type": "code",
   "execution_count": 43,
   "id": "a360c71e-58ee-427f-8b19-bb2de7ccbc7c",
   "metadata": {},
   "outputs": [],
   "source": [
    "from sklearn.pipeline import Pipeline\n",
    "from sklearn.compose import ColumnTransformer\n",
    "from sklearn.preprocessing import OneHotEncoder\n",
    "from sklearn.feature_extraction.text import TfidfVectorizer\n",
    "from sklearn.ensemble import RandomForestRegressor\n",
    "\n",
    "# Text processing for product titles\n",
    "preprocessor = ColumnTransformer([\n",
    "    ('cat', OneHotEncoder(handle_unknown='ignore'), ['Category', 'Brand']),\n",
    "    ('title', TfidfVectorizer(max_features=100), 'Product')\n",
    "])\n",
    "\n",
    "model = Pipeline([\n",
    "    ('features', preprocessor),\n",
    "    ('regressor', RandomForestRegressor(n_estimators=100, random_state=42))\n",
    "])\n"
   ]
  },
  {
   "cell_type": "code",
   "execution_count": 45,
   "id": "3814dc44-2d7f-457a-bbf2-ae66d686aaa5",
   "metadata": {},
   "outputs": [
    {
     "name": "stdout",
     "output_type": "stream",
     "text": [
      "MAE: 7564.169523809525\n",
      "R2 Score: 0.8985925406361925\n"
     ]
    }
   ],
   "source": [
    "model.fit(X_train, y_train)\n",
    "\n",
    "# Evaluate\n",
    "from sklearn.metrics import mean_absolute_error, r2_score\n",
    "\n",
    "preds = model.predict(X_test)\n",
    "print(\"MAE:\", mean_absolute_error(y_test, preds))\n",
    "print(\"R2 Score:\", r2_score(y_test, preds))\n"
   ]
  },
  {
   "cell_type": "code",
   "execution_count": 47,
   "id": "c999961e-2092-4340-ade2-8066c4ee834b",
   "metadata": {},
   "outputs": [],
   "source": [
    "y_pred = model.predict(X_test)"
   ]
  },
  {
   "cell_type": "code",
   "execution_count": 49,
   "id": "792e211c-0de3-4ddc-9a83-fc40667447b5",
   "metadata": {},
   "outputs": [
    {
     "name": "stdout",
     "output_type": "stream",
     "text": [
      "MAE: 7564.169523809525\n",
      "RMSE: 10748.452689281035\n",
      "R² Score: 0.8985925406361925\n"
     ]
    }
   ],
   "source": [
    "from sklearn.metrics import mean_absolute_error, mean_squared_error, r2_score\n",
    "import numpy as np\n",
    "\n",
    "mae = mean_absolute_error(y_test, y_pred)\n",
    "rmse = np.sqrt(mean_squared_error(y_test, y_pred))\n",
    "r2 = r2_score(y_test, y_pred)\n",
    "\n",
    "print(\"MAE:\", mae)\n",
    "print(\"RMSE:\", rmse)\n",
    "print(\"R² Score:\", r2)\n"
   ]
  },
  {
   "cell_type": "code",
   "execution_count": 51,
   "id": "0d04380f-65b4-465c-acc0-a75b951f997e",
   "metadata": {},
   "outputs": [
    {
     "data": {
      "image/png": "[encoded data removed]",
      "text/plain": [
       "<Figure size 800x600 with 1 Axes>"
      ]
     },
     "metadata": {},
     "output_type": "display_data"
    }
   ],
   "source": [
    "import matplotlib.pyplot as plt\n",
    "import seaborn as sns\n",
    "\n",
    "plt.figure(figsize=(8, 6))\n",
    "sns.scatterplot(x=y_test, y=y_pred)\n",
    "plt.xlabel(\"Actual Price\")\n",
    "plt.ylabel(\"Predicted Price\")\n",
    "plt.title(\"Actual vs Predicted Product Prices\")\n",
    "plt.plot([y_test.min(), y_test.max()], [y_test.min(), y_test.max()], color='red', linestyle='--')\n",
    "plt.tight_layout()\n",
    "plt.show()\n"
   ]
  },
  {
   "cell_type": "code",
   "execution_count": 53,
   "id": "1e368b87-45ba-4262-bcc8-c8fc68ae75d1",
   "metadata": {},
   "outputs": [
    {
     "data": {
      "image/png": "[encoded data removed]",
      "text/plain": [
       "<Figure size 800x600 with 1 Axes>"
      ]
     },
     "metadata": {},
     "output_type": "display_data"
    }
   ],
   "source": [
    "residuals = y_test - y_pred\n",
    "\n",
    "plt.figure(figsize=(8, 6))\n",
    "sns.histplot(residuals, kde=True)\n",
    "plt.title(\"Distribution of Prediction Errors (Residuals)\")\n",
    "plt.xlabel(\"Prediction Error\")\n",
    "plt.ylabel(\"Frequency\")\n",
    "plt.tight_layout()\n",
    "plt.show()\n"
   ]
  },
  {
   "cell_type": "markdown",
   "id": "60b49ba4-cb59-44c0-907f-d8856f9c2507",
   "metadata": {},
   "source": [
    "### Gradient Boosting"
   ]
  },
  {
   "cell_type": "code",
   "execution_count": 56,
   "id": "58426db5-63da-487b-b0af-905ab0108766",
   "metadata": {},
   "outputs": [],
   "source": [
    "from sklearn.ensemble import GradientBoostingRegressor"
   ]
  },
  {
   "cell_type": "code",
   "execution_count": 58,
   "id": "f8b02a9c-42c2-4528-9189-c2fbd4302c59",
   "metadata": {},
   "outputs": [],
   "source": [
    "from sklearn.pipeline import Pipeline\n",
    "from sklearn.compose import ColumnTransformer\n",
    "from sklearn.preprocessing import OneHotEncoder\n",
    "from sklearn.feature_extraction.text import TfidfVectorizer\n",
    "\n",
    "# Preprocessing: encode category + brand, vectorize product name\n",
    "preprocessor = ColumnTransformer([\n",
    "    ('cat', OneHotEncoder(handle_unknown='ignore'), ['Category', 'Brand']),\n",
    "    ('title', TfidfVectorizer(max_features=100), 'Product')\n",
    "])\n",
    "\n",
    "# Gradient Boosting pipeline\n",
    "model = Pipeline([\n",
    "    ('features', preprocessor),\n",
    "    ('regressor', GradientBoostingRegressor(n_estimators=200, learning_rate=0.1, max_depth=4, random_state=42))\n",
    "])\n"
   ]
  },
  {
   "cell_type": "code",
   "execution_count": 60,
   "id": "1bf425b1-548c-4d14-9f8d-1ac176bef1c0",
   "metadata": {},
   "outputs": [
    {
     "name": "stdout",
     "output_type": "stream",
     "text": [
      "MAE: 6483.720171045234\n",
      "R² Score: 0.9088444270558291\n"
     ]
    }
   ],
   "source": [
    "model.fit(X_train, y_train)\n",
    "\n",
    "# Predict\n",
    "y_pred = model.predict(X_test)\n",
    "\n",
    "# Evaluate\n",
    "from sklearn.metrics import mean_absolute_error, r2_score\n",
    "mae = mean_absolute_error(y_test, y_pred)\n",
    "r2 = r2_score(y_test, y_pred)\n",
    "\n",
    "print(\"MAE:\", mae)\n",
    "print(\"R² Score:\", r2)\n"
   ]
  },
  {
   "cell_type": "code",
   "execution_count": 62,
   "id": "d9b156c5-572c-4b86-9b50-1c482a38de59",
   "metadata": {},
   "outputs": [
    {
     "data": {
      "image/png": "[encoded data removed]",
      "text/plain": [
       "<Figure size 640x480 with 1 Axes>"
      ]
     },
     "metadata": {},
     "output_type": "display_data"
    }
   ],
   "source": [
    "import seaborn as sns\n",
    "import matplotlib.pyplot as plt\n",
    "\n",
    "residuals = y_test - y_pred\n",
    "sns.histplot(residuals, kde=True)\n",
    "plt.title(\"Residuals after Gradient Boosting\")\n",
    "plt.xlabel(\"Prediction Error\")\n",
    "plt.show()\n"
   ]
  },
  {
   "cell_type": "code",
   "execution_count": 64,
   "id": "20f5de6f-bbf9-4098-a8e5-674cbe6eb5e2",
   "metadata": {},
   "outputs": [
    {
     "data": {
      "text/html": [
       "<div>\n",
       "<style scoped>\n",
       "    .dataframe tbody tr th:only-of-type {\n",
       "        vertical-align: middle;\n",
       "    }\n",
       "\n",
       "    .dataframe tbody tr th {\n",
       "        vertical-align: top;\n",
       "    }\n",
       "\n",
       "    .dataframe thead th {\n",
       "        text-align: right;\n",
       "    }\n",
       "</style>\n",
       "<table border=\"1\" class=\"dataframe\">\n",
       "  <thead>\n",
       "    <tr style=\"text-align: right;\">\n",
       "      <th></th>\n",
       "      <th>Actual Price</th>\n",
       "      <th>Predicted Price</th>\n",
       "      <th>Error</th>\n",
       "    </tr>\n",
       "  </thead>\n",
       "  <tbody>\n",
       "    <tr>\n",
       "      <th>0</th>\n",
       "      <td>45990</td>\n",
       "      <td>33584.91</td>\n",
       "      <td>12405.09</td>\n",
       "    </tr>\n",
       "    <tr>\n",
       "      <th>1</th>\n",
       "      <td>1499</td>\n",
       "      <td>1359.05</td>\n",
       "      <td>139.95</td>\n",
       "    </tr>\n",
       "    <tr>\n",
       "      <th>2</th>\n",
       "      <td>15499</td>\n",
       "      <td>14007.83</td>\n",
       "      <td>1491.17</td>\n",
       "    </tr>\n",
       "    <tr>\n",
       "      <th>3</th>\n",
       "      <td>45790</td>\n",
       "      <td>56016.54</td>\n",
       "      <td>-10226.54</td>\n",
       "    </tr>\n",
       "    <tr>\n",
       "      <th>4</th>\n",
       "      <td>799</td>\n",
       "      <td>11689.76</td>\n",
       "      <td>-10890.76</td>\n",
       "    </tr>\n",
       "    <tr>\n",
       "      <th>5</th>\n",
       "      <td>16590</td>\n",
       "      <td>12473.08</td>\n",
       "      <td>4116.92</td>\n",
       "    </tr>\n",
       "    <tr>\n",
       "      <th>6</th>\n",
       "      <td>37990</td>\n",
       "      <td>36118.92</td>\n",
       "      <td>1871.08</td>\n",
       "    </tr>\n",
       "    <tr>\n",
       "      <th>7</th>\n",
       "      <td>73590</td>\n",
       "      <td>72410.45</td>\n",
       "      <td>1179.55</td>\n",
       "    </tr>\n",
       "    <tr>\n",
       "      <th>8</th>\n",
       "      <td>39999</td>\n",
       "      <td>28200.28</td>\n",
       "      <td>11798.72</td>\n",
       "    </tr>\n",
       "    <tr>\n",
       "      <th>9</th>\n",
       "      <td>1599</td>\n",
       "      <td>1321.05</td>\n",
       "      <td>277.95</td>\n",
       "    </tr>\n",
       "  </tbody>\n",
       "</table>\n",
       "</div>"
      ],
      "text/plain": [
       "   Actual Price  Predicted Price     Error\n",
       "0         45990         33584.91  12405.09\n",
       "1          1499          1359.05    139.95\n",
       "2         15499         14007.83   1491.17\n",
       "3         45790         56016.54 -10226.54\n",
       "4           799         11689.76 -10890.76\n",
       "5         16590         12473.08   4116.92\n",
       "6         37990         36118.92   1871.08\n",
       "7         73590         72410.45   1179.55\n",
       "8         39999         28200.28  11798.72\n",
       "9          1599          1321.05    277.95"
      ]
     },
     "execution_count": 64,
     "metadata": {},
     "output_type": "execute_result"
    }
   ],
   "source": [
    "# Create a DataFrame comparing actual and predicted values\n",
    "results = pd.DataFrame({\n",
    "    'Actual Price': y_test.values,\n",
    "    'Predicted Price': y_pred.round(2),\n",
    "    'Error': (y_test.values - y_pred.round(2)).round(2)\n",
    "})\n",
    "\n",
    "# Show top 10 rows\n",
    "results.head(10)\n"
   ]
  },
  {
   "cell_type": "code",
   "execution_count": 66,
   "id": "cf3675c5-23f3-454e-9f08-ed8d416d283c",
   "metadata": {},
   "outputs": [],
   "source": [
    "# Sample products for testing\n",
    "sample_data = pd.DataFrame({\n",
    "    'Category': ['Smartphones', 'Laptops', 'TVs'],\n",
    "    'Brand': ['Samsung', 'HP', 'Sony'],\n",
    "    'Product': [\n",
    "        'Samsung Galaxy A15 5G (6GB RAM, 128GB, Black)',\n",
    "        'HP Victus Gaming Laptop (Intel i5, 16GB RAM, 512GB SSD)',\n",
    "        'Sony Bravia 55 inch 4K Ultra HD Smart LED TV'\n",
    "    ]\n",
    "})\n"
   ]
  },
  {
   "cell_type": "code",
   "execution_count": 68,
   "id": "de22c413-23c9-421f-8826-64b1332e964f",
   "metadata": {},
   "outputs": [
    {
     "data": {
      "text/html": [
       "<div>\n",
       "<style scoped>\n",
       "    .dataframe tbody tr th:only-of-type {\n",
       "        vertical-align: middle;\n",
       "    }\n",
       "\n",
       "    .dataframe tbody tr th {\n",
       "        vertical-align: top;\n",
       "    }\n",
       "\n",
       "    .dataframe thead th {\n",
       "        text-align: right;\n",
       "    }\n",
       "</style>\n",
       "<table border=\"1\" class=\"dataframe\">\n",
       "  <thead>\n",
       "    <tr style=\"text-align: right;\">\n",
       "      <th></th>\n",
       "      <th>Category</th>\n",
       "      <th>Brand</th>\n",
       "      <th>Product</th>\n",
       "      <th>Predicted Price (₹)</th>\n",
       "    </tr>\n",
       "  </thead>\n",
       "  <tbody>\n",
       "    <tr>\n",
       "      <th>0</th>\n",
       "      <td>Smartphones</td>\n",
       "      <td>Samsung</td>\n",
       "      <td>Samsung Galaxy A15 5G (6GB RAM, 128GB, Black)</td>\n",
       "      <td>14385.57</td>\n",
       "    </tr>\n",
       "    <tr>\n",
       "      <th>1</th>\n",
       "      <td>Laptops</td>\n",
       "      <td>HP</td>\n",
       "      <td>HP Victus Gaming Laptop (Intel i5, 16GB RAM, 5...</td>\n",
       "      <td>45717.03</td>\n",
       "    </tr>\n",
       "    <tr>\n",
       "      <th>2</th>\n",
       "      <td>TVs</td>\n",
       "      <td>Sony</td>\n",
       "      <td>Sony Bravia 55 inch 4K Ultra HD Smart LED TV</td>\n",
       "      <td>21920.65</td>\n",
       "    </tr>\n",
       "  </tbody>\n",
       "</table>\n",
       "</div>"
      ],
      "text/plain": [
       "      Category    Brand                                            Product  \\\n",
       "0  Smartphones  Samsung      Samsung Galaxy A15 5G (6GB RAM, 128GB, Black)   \n",
       "1      Laptops       HP  HP Victus Gaming Laptop (Intel i5, 16GB RAM, 5...   \n",
       "2          TVs     Sony       Sony Bravia 55 inch 4K Ultra HD Smart LED TV   \n",
       "\n",
       "   Predicted Price (₹)  \n",
       "0             14385.57  \n",
       "1             45717.03  \n",
       "2             21920.65  "
      ]
     },
     "execution_count": 68,
     "metadata": {},
     "output_type": "execute_result"
    }
   ],
   "source": [
    "# Predict price for new products\n",
    "sample_predictions = model.predict(sample_data)\n",
    "\n",
    "# Add predictions to the DataFrame\n",
    "sample_data['Predicted Price (₹)'] = sample_predictions.round(2)\n",
    "\n",
    "sample_data\n"
   ]
  },
  {
   "cell_type": "code",
   "execution_count": 70,
   "id": "b8e1deb9-5dc2-47a8-bc6d-8ebeb11d0dee",
   "metadata": {},
   "outputs": [
    {
     "name": "stdout",
     "output_type": "stream",
     "text": [
      "✅ Model saved as price_predictor_model.pkl\n"
     ]
    }
   ],
   "source": [
    "import joblib\n",
    "\n",
    "# Save the model pipeline to a .pkl file\n",
    "joblib.dump(model, \"price_predictor_model.pkl\")\n",
    "\n",
    "print(\"✅ Model saved as price_predictor_model.pkl\")\n"
   ]
  },
  {
   "cell_type": "code",
   "execution_count": null,
   "id": "f44f1693-0149-4674-9102-bf49f675fed2",
   "metadata": {},
   "outputs": [],
   "source": []
  }
 ],
 "metadata": {
  "kernelspec": {
   "display_name": "Python 3 (ipykernel)",
   "language": "python",
   "name": "python3"
  },
  "language_info": {
   "codemirror_mode": {
    "name": "ipython",
    "version": 3
   },
   "file_extension": ".py",
   "mimetype": "text/x-python",
   "name": "python",
   "nbconvert_exporter": "python",
   "pygments_lexer": "ipython3",
   "version": "3.12.4"
  }
 },
 "nbformat": 4,
 "nbformat_minor": 5
}
